{
  "cells": [
    {
      "cell_type": "markdown",
      "metadata": {
        "id": "view-in-github",
        "colab_type": "text"
      },
      "source": [
        "<a href=\"https://colab.research.google.com/github/ShashankSatyam/American-Express-Churn-Prediction/blob/main/American_Express_Customer_Churn_Prediction_.ipynb\" target=\"_parent\"><img src=\"https://colab.research.google.com/assets/colab-badge.svg\" alt=\"Open In Colab\"/></a>"
      ]
    },
    {
      "cell_type": "code",
      "execution_count": null,
      "metadata": {
        "id": "6MOvrsYXmGV4"
      },
      "outputs": [],
      "source": [
        "import numpy as np\n",
        "import pandas as pd\n",
        "import tensorflow as tf"
      ]
    },
    {
      "cell_type": "code",
      "execution_count": null,
      "metadata": {
        "colab": {
          "base_uri": "https://localhost:8080/",
          "height": 36
        },
        "id": "A-jWdFiLm9I8",
        "outputId": "189830a4-5746-4679-b86d-4464d9c15cd1"
      },
      "outputs": [
        {
          "output_type": "execute_result",
          "data": {
            "text/plain": [
              "'2.15.0'"
            ],
            "application/vnd.google.colaboratory.intrinsic+json": {
              "type": "string"
            }
          },
          "metadata": {},
          "execution_count": 2
        }
      ],
      "source": [
        "tf.__version__"
      ]
    },
    {
      "cell_type": "code",
      "execution_count": null,
      "metadata": {
        "id": "FpQViER_m_AY"
      },
      "outputs": [],
      "source": [
        "\n",
        "df = pd.read_csv('/content/American Express.csv')"
      ]
    },
    {
      "cell_type": "code",
      "execution_count": null,
      "metadata": {
        "colab": {
          "base_uri": "https://localhost:8080/",
          "height": 206
        },
        "id": "DDOQEn4tns-O",
        "outputId": "e17a7799-882f-4d6c-d002-3c9240fc9684"
      },
      "outputs": [
        {
          "output_type": "execute_result",
          "data": {
            "text/plain": [
              "   Credit Score  Geography  Gender   Age  Customer Since  Current Account  \\\n",
              "0         553.0      Delhi  Female  45.0             4.0            0.000   \n",
              "1         447.0  Bengaluru    Male  31.0             7.0            0.000   \n",
              "2         501.0      Delhi  Female  32.0             2.0            0.000   \n",
              "3         428.0      Delhi    Male  51.0             3.0            0.000   \n",
              "4         492.0      Delhi  Female  57.0             6.0      1912681.501   \n",
              "\n",
              "   Num of products  UPI Enabled  Estimated Yearly Income  Closed  \n",
              "0              4.0          1.0                 274150.0     0.0  \n",
              "1              4.0          1.0                 519360.0     0.0  \n",
              "2              4.0          1.0                 545501.0     0.0  \n",
              "3              4.0          1.0                  86868.0     0.0  \n",
              "4              2.0          1.0                 518680.0     0.0  "
            ],
            "text/html": [
              "\n",
              "  <div id=\"df-3a1f84a7-694c-4564-ac63-fbb29d1a186a\" class=\"colab-df-container\">\n",
              "    <div>\n",
              "<style scoped>\n",
              "    .dataframe tbody tr th:only-of-type {\n",
              "        vertical-align: middle;\n",
              "    }\n",
              "\n",
              "    .dataframe tbody tr th {\n",
              "        vertical-align: top;\n",
              "    }\n",
              "\n",
              "    .dataframe thead th {\n",
              "        text-align: right;\n",
              "    }\n",
              "</style>\n",
              "<table border=\"1\" class=\"dataframe\">\n",
              "  <thead>\n",
              "    <tr style=\"text-align: right;\">\n",
              "      <th></th>\n",
              "      <th>Credit Score</th>\n",
              "      <th>Geography</th>\n",
              "      <th>Gender</th>\n",
              "      <th>Age</th>\n",
              "      <th>Customer Since</th>\n",
              "      <th>Current Account</th>\n",
              "      <th>Num of products</th>\n",
              "      <th>UPI Enabled</th>\n",
              "      <th>Estimated Yearly Income</th>\n",
              "      <th>Closed</th>\n",
              "    </tr>\n",
              "  </thead>\n",
              "  <tbody>\n",
              "    <tr>\n",
              "      <th>0</th>\n",
              "      <td>553.0</td>\n",
              "      <td>Delhi</td>\n",
              "      <td>Female</td>\n",
              "      <td>45.0</td>\n",
              "      <td>4.0</td>\n",
              "      <td>0.000</td>\n",
              "      <td>4.0</td>\n",
              "      <td>1.0</td>\n",
              "      <td>274150.0</td>\n",
              "      <td>0.0</td>\n",
              "    </tr>\n",
              "    <tr>\n",
              "      <th>1</th>\n",
              "      <td>447.0</td>\n",
              "      <td>Bengaluru</td>\n",
              "      <td>Male</td>\n",
              "      <td>31.0</td>\n",
              "      <td>7.0</td>\n",
              "      <td>0.000</td>\n",
              "      <td>4.0</td>\n",
              "      <td>1.0</td>\n",
              "      <td>519360.0</td>\n",
              "      <td>0.0</td>\n",
              "    </tr>\n",
              "    <tr>\n",
              "      <th>2</th>\n",
              "      <td>501.0</td>\n",
              "      <td>Delhi</td>\n",
              "      <td>Female</td>\n",
              "      <td>32.0</td>\n",
              "      <td>2.0</td>\n",
              "      <td>0.000</td>\n",
              "      <td>4.0</td>\n",
              "      <td>1.0</td>\n",
              "      <td>545501.0</td>\n",
              "      <td>0.0</td>\n",
              "    </tr>\n",
              "    <tr>\n",
              "      <th>3</th>\n",
              "      <td>428.0</td>\n",
              "      <td>Delhi</td>\n",
              "      <td>Male</td>\n",
              "      <td>51.0</td>\n",
              "      <td>3.0</td>\n",
              "      <td>0.000</td>\n",
              "      <td>4.0</td>\n",
              "      <td>1.0</td>\n",
              "      <td>86868.0</td>\n",
              "      <td>0.0</td>\n",
              "    </tr>\n",
              "    <tr>\n",
              "      <th>4</th>\n",
              "      <td>492.0</td>\n",
              "      <td>Delhi</td>\n",
              "      <td>Female</td>\n",
              "      <td>57.0</td>\n",
              "      <td>6.0</td>\n",
              "      <td>1912681.501</td>\n",
              "      <td>2.0</td>\n",
              "      <td>1.0</td>\n",
              "      <td>518680.0</td>\n",
              "      <td>0.0</td>\n",
              "    </tr>\n",
              "  </tbody>\n",
              "</table>\n",
              "</div>\n",
              "    <div class=\"colab-df-buttons\">\n",
              "\n",
              "  <div class=\"colab-df-container\">\n",
              "    <button class=\"colab-df-convert\" onclick=\"convertToInteractive('df-3a1f84a7-694c-4564-ac63-fbb29d1a186a')\"\n",
              "            title=\"Convert this dataframe to an interactive table.\"\n",
              "            style=\"display:none;\">\n",
              "\n",
              "  <svg xmlns=\"http://www.w3.org/2000/svg\" height=\"24px\" viewBox=\"0 -960 960 960\">\n",
              "    <path d=\"M120-120v-720h720v720H120Zm60-500h600v-160H180v160Zm220 220h160v-160H400v160Zm0 220h160v-160H400v160ZM180-400h160v-160H180v160Zm440 0h160v-160H620v160ZM180-180h160v-160H180v160Zm440 0h160v-160H620v160Z\"/>\n",
              "  </svg>\n",
              "    </button>\n",
              "\n",
              "  <style>\n",
              "    .colab-df-container {\n",
              "      display:flex;\n",
              "      gap: 12px;\n",
              "    }\n",
              "\n",
              "    .colab-df-convert {\n",
              "      background-color: #E8F0FE;\n",
              "      border: none;\n",
              "      border-radius: 50%;\n",
              "      cursor: pointer;\n",
              "      display: none;\n",
              "      fill: #1967D2;\n",
              "      height: 32px;\n",
              "      padding: 0 0 0 0;\n",
              "      width: 32px;\n",
              "    }\n",
              "\n",
              "    .colab-df-convert:hover {\n",
              "      background-color: #E2EBFA;\n",
              "      box-shadow: 0px 1px 2px rgba(60, 64, 67, 0.3), 0px 1px 3px 1px rgba(60, 64, 67, 0.15);\n",
              "      fill: #174EA6;\n",
              "    }\n",
              "\n",
              "    .colab-df-buttons div {\n",
              "      margin-bottom: 4px;\n",
              "    }\n",
              "\n",
              "    [theme=dark] .colab-df-convert {\n",
              "      background-color: #3B4455;\n",
              "      fill: #D2E3FC;\n",
              "    }\n",
              "\n",
              "    [theme=dark] .colab-df-convert:hover {\n",
              "      background-color: #434B5C;\n",
              "      box-shadow: 0px 1px 3px 1px rgba(0, 0, 0, 0.15);\n",
              "      filter: drop-shadow(0px 1px 2px rgba(0, 0, 0, 0.3));\n",
              "      fill: #FFFFFF;\n",
              "    }\n",
              "  </style>\n",
              "\n",
              "    <script>\n",
              "      const buttonEl =\n",
              "        document.querySelector('#df-3a1f84a7-694c-4564-ac63-fbb29d1a186a button.colab-df-convert');\n",
              "      buttonEl.style.display =\n",
              "        google.colab.kernel.accessAllowed ? 'block' : 'none';\n",
              "\n",
              "      async function convertToInteractive(key) {\n",
              "        const element = document.querySelector('#df-3a1f84a7-694c-4564-ac63-fbb29d1a186a');\n",
              "        const dataTable =\n",
              "          await google.colab.kernel.invokeFunction('convertToInteractive',\n",
              "                                                    [key], {});\n",
              "        if (!dataTable) return;\n",
              "\n",
              "        const docLinkHtml = 'Like what you see? Visit the ' +\n",
              "          '<a target=\"_blank\" href=https://colab.research.google.com/notebooks/data_table.ipynb>data table notebook</a>'\n",
              "          + ' to learn more about interactive tables.';\n",
              "        element.innerHTML = '';\n",
              "        dataTable['output_type'] = 'display_data';\n",
              "        await google.colab.output.renderOutput(dataTable, element);\n",
              "        const docLink = document.createElement('div');\n",
              "        docLink.innerHTML = docLinkHtml;\n",
              "        element.appendChild(docLink);\n",
              "      }\n",
              "    </script>\n",
              "  </div>\n",
              "\n",
              "\n",
              "<div id=\"df-818b8abf-a7ae-476d-98e1-a8c41dbf9eac\">\n",
              "  <button class=\"colab-df-quickchart\" onclick=\"quickchart('df-818b8abf-a7ae-476d-98e1-a8c41dbf9eac')\"\n",
              "            title=\"Suggest charts\"\n",
              "            style=\"display:none;\">\n",
              "\n",
              "<svg xmlns=\"http://www.w3.org/2000/svg\" height=\"24px\"viewBox=\"0 0 24 24\"\n",
              "     width=\"24px\">\n",
              "    <g>\n",
              "        <path d=\"M19 3H5c-1.1 0-2 .9-2 2v14c0 1.1.9 2 2 2h14c1.1 0 2-.9 2-2V5c0-1.1-.9-2-2-2zM9 17H7v-7h2v7zm4 0h-2V7h2v10zm4 0h-2v-4h2v4z\"/>\n",
              "    </g>\n",
              "</svg>\n",
              "  </button>\n",
              "\n",
              "<style>\n",
              "  .colab-df-quickchart {\n",
              "      --bg-color: #E8F0FE;\n",
              "      --fill-color: #1967D2;\n",
              "      --hover-bg-color: #E2EBFA;\n",
              "      --hover-fill-color: #174EA6;\n",
              "      --disabled-fill-color: #AAA;\n",
              "      --disabled-bg-color: #DDD;\n",
              "  }\n",
              "\n",
              "  [theme=dark] .colab-df-quickchart {\n",
              "      --bg-color: #3B4455;\n",
              "      --fill-color: #D2E3FC;\n",
              "      --hover-bg-color: #434B5C;\n",
              "      --hover-fill-color: #FFFFFF;\n",
              "      --disabled-bg-color: #3B4455;\n",
              "      --disabled-fill-color: #666;\n",
              "  }\n",
              "\n",
              "  .colab-df-quickchart {\n",
              "    background-color: var(--bg-color);\n",
              "    border: none;\n",
              "    border-radius: 50%;\n",
              "    cursor: pointer;\n",
              "    display: none;\n",
              "    fill: var(--fill-color);\n",
              "    height: 32px;\n",
              "    padding: 0;\n",
              "    width: 32px;\n",
              "  }\n",
              "\n",
              "  .colab-df-quickchart:hover {\n",
              "    background-color: var(--hover-bg-color);\n",
              "    box-shadow: 0 1px 2px rgba(60, 64, 67, 0.3), 0 1px 3px 1px rgba(60, 64, 67, 0.15);\n",
              "    fill: var(--button-hover-fill-color);\n",
              "  }\n",
              "\n",
              "  .colab-df-quickchart-complete:disabled,\n",
              "  .colab-df-quickchart-complete:disabled:hover {\n",
              "    background-color: var(--disabled-bg-color);\n",
              "    fill: var(--disabled-fill-color);\n",
              "    box-shadow: none;\n",
              "  }\n",
              "\n",
              "  .colab-df-spinner {\n",
              "    border: 2px solid var(--fill-color);\n",
              "    border-color: transparent;\n",
              "    border-bottom-color: var(--fill-color);\n",
              "    animation:\n",
              "      spin 1s steps(1) infinite;\n",
              "  }\n",
              "\n",
              "  @keyframes spin {\n",
              "    0% {\n",
              "      border-color: transparent;\n",
              "      border-bottom-color: var(--fill-color);\n",
              "      border-left-color: var(--fill-color);\n",
              "    }\n",
              "    20% {\n",
              "      border-color: transparent;\n",
              "      border-left-color: var(--fill-color);\n",
              "      border-top-color: var(--fill-color);\n",
              "    }\n",
              "    30% {\n",
              "      border-color: transparent;\n",
              "      border-left-color: var(--fill-color);\n",
              "      border-top-color: var(--fill-color);\n",
              "      border-right-color: var(--fill-color);\n",
              "    }\n",
              "    40% {\n",
              "      border-color: transparent;\n",
              "      border-right-color: var(--fill-color);\n",
              "      border-top-color: var(--fill-color);\n",
              "    }\n",
              "    60% {\n",
              "      border-color: transparent;\n",
              "      border-right-color: var(--fill-color);\n",
              "    }\n",
              "    80% {\n",
              "      border-color: transparent;\n",
              "      border-right-color: var(--fill-color);\n",
              "      border-bottom-color: var(--fill-color);\n",
              "    }\n",
              "    90% {\n",
              "      border-color: transparent;\n",
              "      border-bottom-color: var(--fill-color);\n",
              "    }\n",
              "  }\n",
              "</style>\n",
              "\n",
              "  <script>\n",
              "    async function quickchart(key) {\n",
              "      const quickchartButtonEl =\n",
              "        document.querySelector('#' + key + ' button');\n",
              "      quickchartButtonEl.disabled = true;  // To prevent multiple clicks.\n",
              "      quickchartButtonEl.classList.add('colab-df-spinner');\n",
              "      try {\n",
              "        const charts = await google.colab.kernel.invokeFunction(\n",
              "            'suggestCharts', [key], {});\n",
              "      } catch (error) {\n",
              "        console.error('Error during call to suggestCharts:', error);\n",
              "      }\n",
              "      quickchartButtonEl.classList.remove('colab-df-spinner');\n",
              "      quickchartButtonEl.classList.add('colab-df-quickchart-complete');\n",
              "    }\n",
              "    (() => {\n",
              "      let quickchartButtonEl =\n",
              "        document.querySelector('#df-818b8abf-a7ae-476d-98e1-a8c41dbf9eac button');\n",
              "      quickchartButtonEl.style.display =\n",
              "        google.colab.kernel.accessAllowed ? 'block' : 'none';\n",
              "    })();\n",
              "  </script>\n",
              "</div>\n",
              "\n",
              "    </div>\n",
              "  </div>\n"
            ],
            "application/vnd.google.colaboratory.intrinsic+json": {
              "type": "dataframe",
              "variable_name": "df",
              "summary": "{\n  \"name\": \"df\",\n  \"rows\": 9929,\n  \"fields\": [\n    {\n      \"column\": \"Credit Score\",\n      \"properties\": {\n        \"dtype\": \"number\",\n        \"std\": 78.6100886712651,\n        \"min\": 285.0,\n        \"max\": 692.0,\n        \"num_unique_values\": 377,\n        \"samples\": [\n          384.0,\n          524.0,\n          516.0\n        ],\n        \"semantic_type\": \"\",\n        \"description\": \"\"\n      }\n    },\n    {\n      \"column\": \"Geography\",\n      \"properties\": {\n        \"dtype\": \"category\",\n        \"num_unique_values\": 3,\n        \"samples\": [\n          \"Delhi\",\n          \"Bengaluru\",\n          \"Mumbai\"\n        ],\n        \"semantic_type\": \"\",\n        \"description\": \"\"\n      }\n    },\n    {\n      \"column\": \"Gender\",\n      \"properties\": {\n        \"dtype\": \"category\",\n        \"num_unique_values\": 2,\n        \"samples\": [\n          \"Male\",\n          \"Female\"\n        ],\n        \"semantic_type\": \"\",\n        \"description\": \"\"\n      }\n    },\n    {\n      \"column\": \"Age\",\n      \"properties\": {\n        \"dtype\": \"number\",\n        \"std\": 16.100516872985793,\n        \"min\": 17.0,\n        \"max\": 137.0,\n        \"num_unique_values\": 70,\n        \"samples\": [\n          30.0,\n          45.0\n        ],\n        \"semantic_type\": \"\",\n        \"description\": \"\"\n      }\n    },\n    {\n      \"column\": \"Customer Since\",\n      \"properties\": {\n        \"dtype\": \"number\",\n        \"std\": 2.3929866403882887,\n        \"min\": 0.0,\n        \"max\": 8.0,\n        \"num_unique_values\": 9,\n        \"samples\": [\n          1.0,\n          7.0\n        ],\n        \"semantic_type\": \"\",\n        \"description\": \"\"\n      }\n    },\n    {\n      \"column\": \"Current Account\",\n      \"properties\": {\n        \"dtype\": \"number\",\n        \"std\": 840798.8453398122,\n        \"min\": 0.0,\n        \"max\": 3985304.216,\n        \"num_unique_values\": 6326,\n        \"samples\": [\n          1752881.546,\n          1130187.429\n        ],\n        \"semantic_type\": \"\",\n        \"description\": \"\"\n      }\n    },\n    {\n      \"column\": \"Num of products\",\n      \"properties\": {\n        \"dtype\": \"number\",\n        \"std\": 1.081527976187809,\n        \"min\": 2.0,\n        \"max\": 7.0,\n        \"num_unique_values\": 4,\n        \"samples\": [\n          2.0,\n          7.0\n        ],\n        \"semantic_type\": \"\",\n        \"description\": \"\"\n      }\n    },\n    {\n      \"column\": \"UPI Enabled\",\n      \"properties\": {\n        \"dtype\": \"number\",\n        \"std\": 0.45608995622923276,\n        \"min\": 0.0,\n        \"max\": 1.0,\n        \"num_unique_values\": 2,\n        \"samples\": [\n          0.0,\n          1.0\n        ],\n        \"semantic_type\": \"\",\n        \"description\": \"\"\n      }\n    },\n    {\n      \"column\": \"Estimated Yearly Income\",\n      \"properties\": {\n        \"dtype\": \"number\",\n        \"std\": 157578.7004893493,\n        \"min\": 32.0,\n        \"max\": 547947.0,\n        \"num_unique_values\": 9841,\n        \"samples\": [\n          324646.0,\n          500641.0\n        ],\n        \"semantic_type\": \"\",\n        \"description\": \"\"\n      }\n    },\n    {\n      \"column\": \"Closed\",\n      \"properties\": {\n        \"dtype\": \"number\",\n        \"std\": 0.40320312170509426,\n        \"min\": 0.0,\n        \"max\": 1.0,\n        \"num_unique_values\": 2,\n        \"samples\": [\n          1.0,\n          0.0\n        ],\n        \"semantic_type\": \"\",\n        \"description\": \"\"\n      }\n    }\n  ]\n}"
            }
          },
          "metadata": {},
          "execution_count": 15
        }
      ],
      "source": [
        "df.head()"
      ]
    },
    {
      "cell_type": "code",
      "execution_count": null,
      "metadata": {
        "colab": {
          "base_uri": "https://localhost:8080/"
        },
        "id": "3a4eNtzSpYC5",
        "outputId": "5c11b2fb-7dab-42ee-9de6-bb8afa28ebea"
      },
      "outputs": [
        {
          "output_type": "execute_result",
          "data": {
            "text/plain": [
              "Credit Score               2\n",
              "Geography                  2\n",
              "Gender                     2\n",
              "Age                        2\n",
              "Customer Since             2\n",
              "Current Account            2\n",
              "Num of products            2\n",
              "UPI Enabled                2\n",
              "Estimated Yearly Income    2\n",
              "Closed                     2\n",
              "dtype: int64"
            ]
          },
          "metadata": {},
          "execution_count": 16
        }
      ],
      "source": [
        "df.isnull().sum()"
      ]
    },
    {
      "cell_type": "code",
      "execution_count": null,
      "metadata": {
        "id": "3a43UdxUpuEM"
      },
      "outputs": [],
      "source": [
        "df.dropna(inplace=True)\n"
      ]
    },
    {
      "cell_type": "code",
      "source": [
        "df.isnull().sum()"
      ],
      "metadata": {
        "colab": {
          "base_uri": "https://localhost:8080/"
        },
        "id": "0sgxQFx_0Y61",
        "outputId": "acbef6af-ecff-49f3-ecea-932861a951ab"
      },
      "execution_count": null,
      "outputs": [
        {
          "output_type": "execute_result",
          "data": {
            "text/plain": [
              "Credit Score               0\n",
              "Geography                  0\n",
              "Gender                     0\n",
              "Age                        0\n",
              "Customer Since             0\n",
              "Current Account            0\n",
              "Num of products            0\n",
              "UPI Enabled                0\n",
              "Estimated Yearly Income    0\n",
              "Closed                     0\n",
              "dtype: int64"
            ]
          },
          "metadata": {},
          "execution_count": 18
        }
      ]
    },
    {
      "cell_type": "code",
      "source": [
        "# doing this now so that no null values remain in the dataset\n",
        "\n",
        "X = df.iloc[:, :-1].values\n",
        "y = df.iloc[:, -1].values\n",
        "print(X)\n",
        "print(y)"
      ],
      "metadata": {
        "colab": {
          "base_uri": "https://localhost:8080/"
        },
        "id": "3HmLJWFs0Z--",
        "outputId": "ae9da24a-aa6a-41bd-bde9-1b59b4a040b0"
      },
      "execution_count": null,
      "outputs": [
        {
          "output_type": "stream",
          "name": "stdout",
          "text": [
            "[[553.0 'Delhi' 'Female' ... 4.0 1.0 274150.0]\n",
            " [447.0 'Bengaluru' 'Male' ... 4.0 1.0 519360.0]\n",
            " [501.0 'Delhi' 'Female' ... 4.0 1.0 545501.0]\n",
            " ...\n",
            " [627.0 'Mumbai' 'Female' ... 4.0 0.0 494067.0]\n",
            " [600.0 'Bengaluru' 'Female' ... 2.0 1.0 109375.0]\n",
            " [553.0 'Delhi' 'Male' ... 4.0 1.0 180031.0]]\n",
            "[0. 0. 0. ... 0. 1. 0.]\n"
          ]
        }
      ]
    },
    {
      "cell_type": "code",
      "execution_count": null,
      "metadata": {
        "colab": {
          "base_uri": "https://localhost:8080/"
        },
        "id": "C5okEHEZp7Ik",
        "outputId": "6d2de8ea-94ef-4060-acf8-78948374438c"
      },
      "outputs": [
        {
          "output_type": "execute_result",
          "data": {
            "text/plain": [
              "(9927, 10)"
            ]
          },
          "metadata": {},
          "execution_count": 20
        }
      ],
      "source": [
        "df.shape"
      ]
    },
    {
      "cell_type": "code",
      "execution_count": null,
      "metadata": {
        "colab": {
          "base_uri": "https://localhost:8080/"
        },
        "collapsed": true,
        "id": "8AeJRu25xBnW",
        "outputId": "44a36892-1b2b-4daf-ea89-7fa8fedd3567"
      },
      "outputs": [
        {
          "output_type": "execute_result",
          "data": {
            "text/plain": [
              "(9927, 9)"
            ]
          },
          "metadata": {},
          "execution_count": 21
        }
      ],
      "source": [
        "X.shape"
      ]
    },
    {
      "cell_type": "code",
      "source": [
        "y.shape"
      ],
      "metadata": {
        "colab": {
          "base_uri": "https://localhost:8080/"
        },
        "id": "zJejejaE0nHt",
        "outputId": "afb863e5-0d71-4f65-ff24-843c3a2da033"
      },
      "execution_count": null,
      "outputs": [
        {
          "output_type": "execute_result",
          "data": {
            "text/plain": [
              "(9927,)"
            ]
          },
          "metadata": {},
          "execution_count": 22
        }
      ]
    },
    {
      "cell_type": "code",
      "execution_count": null,
      "metadata": {
        "id": "W9ktKCV-p9hQ"
      },
      "outputs": [],
      "source": [
        "# Encoding\n",
        "from sklearn.preprocessing import LabelEncoder\n",
        "le = LabelEncoder()\n",
        "X[:,2] = le.fit_transform(X[:,2])"
      ]
    },
    {
      "cell_type": "code",
      "execution_count": null,
      "metadata": {
        "id": "Xam96Yucq8U5"
      },
      "outputs": [],
      "source": [
        "from sklearn.compose import ColumnTransformer\n",
        "from sklearn.preprocessing import OneHotEncoder\n",
        "ct = ColumnTransformer(transformers=[('encoder', OneHotEncoder(), [1])], remainder='passthrough')\n",
        "X = np.array(ct.fit_transform(X))"
      ]
    },
    {
      "cell_type": "code",
      "execution_count": null,
      "metadata": {
        "id": "ggjTypnBrdnB"
      },
      "outputs": [],
      "source": [
        "from sklearn.model_selection import train_test_split\n",
        "X_train, X_test, y_train, y_test = train_test_split(X, y, test_size = 0.2, random_state = 0)"
      ]
    },
    {
      "cell_type": "code",
      "execution_count": null,
      "metadata": {
        "id": "vUCLNW8rrvxR"
      },
      "outputs": [],
      "source": [
        "# Feature Scaling\n",
        "\n",
        "from sklearn.preprocessing import StandardScaler\n",
        "sc = StandardScaler()\n",
        "X_train = sc.fit_transform(X_train)\n",
        "X_test = sc.transform(X_test)"
      ]
    },
    {
      "cell_type": "code",
      "execution_count": null,
      "metadata": {
        "colab": {
          "base_uri": "https://localhost:8080/"
        },
        "id": "vMxzWxAvy14r",
        "outputId": "9a6e7b42-7222-4380-c7fd-fad2161b0f59"
      },
      "outputs": [
        {
          "output_type": "execute_result",
          "data": {
            "text/plain": [
              "(7941, 11)"
            ]
          },
          "metadata": {},
          "execution_count": 27
        }
      ],
      "source": [
        "X_train.shape"
      ]
    },
    {
      "cell_type": "code",
      "execution_count": null,
      "metadata": {
        "id": "HR6BylWksIan"
      },
      "outputs": [],
      "source": [
        "# ANN\n",
        "# initialising the model\n",
        "\n",
        "ann = tf.keras.models.Sequential()\n"
      ]
    },
    {
      "cell_type": "code",
      "execution_count": null,
      "metadata": {
        "id": "czMlMhBDsdmx"
      },
      "outputs": [],
      "source": [
        "# adding first layer\n",
        "\n",
        "ann.add(tf.keras.layers.Dense(units = 5 , activation='relu'))"
      ]
    },
    {
      "cell_type": "code",
      "execution_count": null,
      "metadata": {
        "id": "A5qZS6w-s0_K"
      },
      "outputs": [],
      "source": [
        "# adding first hidden layer\n",
        "\n",
        "ann.add(tf.keras.layers.Dense(units = 5 , activation='relu'))"
      ]
    },
    {
      "cell_type": "code",
      "execution_count": null,
      "metadata": {
        "id": "JU_7yZD6tW0Z"
      },
      "outputs": [],
      "source": [
        "# output layer\n",
        "\n",
        "ann.add(tf.keras.layers.Dense(units = 1 , activation='sigmoid'))"
      ]
    },
    {
      "cell_type": "code",
      "execution_count": null,
      "metadata": {
        "id": "BWBeSyubtmwT"
      },
      "outputs": [],
      "source": [
        "# have to read more about optimiser\n",
        "\n",
        "ann.compile(optimizer = 'adam', loss = 'binary_crossentropy', metrics = ['accuracy'])"
      ]
    },
    {
      "cell_type": "code",
      "execution_count": null,
      "metadata": {
        "colab": {
          "base_uri": "https://localhost:8080/"
        },
        "id": "0BNPELhHt9x3",
        "outputId": "968a5e23-f4db-45ff-cfa1-76017155c078",
        "collapsed": true
      },
      "outputs": [
        {
          "output_type": "stream",
          "name": "stdout",
          "text": [
            "Epoch 1/120\n",
            "249/249 [==============================] - 4s 4ms/step - loss: 0.4979 - accuracy: 0.7966\n",
            "Epoch 2/120\n",
            "249/249 [==============================] - 1s 5ms/step - loss: 0.4615 - accuracy: 0.7966\n",
            "Epoch 3/120\n",
            "249/249 [==============================] - 1s 2ms/step - loss: 0.4395 - accuracy: 0.7966\n",
            "Epoch 4/120\n",
            "249/249 [==============================] - 0s 2ms/step - loss: 0.4288 - accuracy: 0.7966\n",
            "Epoch 5/120\n",
            "249/249 [==============================] - 0s 2ms/step - loss: 0.4234 - accuracy: 0.7966\n",
            "Epoch 6/120\n",
            "249/249 [==============================] - 0s 2ms/step - loss: 0.4198 - accuracy: 0.7966\n",
            "Epoch 7/120\n",
            "249/249 [==============================] - 0s 2ms/step - loss: 0.4162 - accuracy: 0.7966\n",
            "Epoch 8/120\n",
            "249/249 [==============================] - 0s 2ms/step - loss: 0.4134 - accuracy: 0.7966\n",
            "Epoch 9/120\n",
            "249/249 [==============================] - 0s 2ms/step - loss: 0.4104 - accuracy: 0.7966\n",
            "Epoch 10/120\n",
            "249/249 [==============================] - 0s 2ms/step - loss: 0.4080 - accuracy: 0.7964\n",
            "Epoch 11/120\n",
            "249/249 [==============================] - 1s 2ms/step - loss: 0.4060 - accuracy: 0.7952\n",
            "Epoch 12/120\n",
            "249/249 [==============================] - 0s 2ms/step - loss: 0.4044 - accuracy: 0.7932\n",
            "Epoch 13/120\n",
            "249/249 [==============================] - 0s 2ms/step - loss: 0.4031 - accuracy: 0.7907\n",
            "Epoch 14/120\n",
            "249/249 [==============================] - 0s 2ms/step - loss: 0.4021 - accuracy: 0.7901\n",
            "Epoch 15/120\n",
            "249/249 [==============================] - 1s 3ms/step - loss: 0.4016 - accuracy: 0.7921\n",
            "Epoch 16/120\n",
            "249/249 [==============================] - 1s 3ms/step - loss: 0.4005 - accuracy: 0.7955\n",
            "Epoch 17/120\n",
            "249/249 [==============================] - 1s 3ms/step - loss: 0.3999 - accuracy: 0.7974\n",
            "Epoch 18/120\n",
            "249/249 [==============================] - 1s 3ms/step - loss: 0.3992 - accuracy: 0.8015\n",
            "Epoch 19/120\n",
            "249/249 [==============================] - 1s 3ms/step - loss: 0.3983 - accuracy: 0.8020\n",
            "Epoch 20/120\n",
            "249/249 [==============================] - 1s 3ms/step - loss: 0.3974 - accuracy: 0.8044\n",
            "Epoch 21/120\n",
            "249/249 [==============================] - 1s 2ms/step - loss: 0.3966 - accuracy: 0.8063\n",
            "Epoch 22/120\n",
            "249/249 [==============================] - 0s 2ms/step - loss: 0.3960 - accuracy: 0.8082\n",
            "Epoch 23/120\n",
            "249/249 [==============================] - 1s 2ms/step - loss: 0.3951 - accuracy: 0.8112\n",
            "Epoch 24/120\n",
            "249/249 [==============================] - 0s 2ms/step - loss: 0.3940 - accuracy: 0.8120\n",
            "Epoch 25/120\n",
            "249/249 [==============================] - 1s 2ms/step - loss: 0.3932 - accuracy: 0.8132\n",
            "Epoch 26/120\n",
            "249/249 [==============================] - 0s 2ms/step - loss: 0.3917 - accuracy: 0.8154\n",
            "Epoch 27/120\n",
            "249/249 [==============================] - 0s 2ms/step - loss: 0.3905 - accuracy: 0.8161\n",
            "Epoch 28/120\n",
            "249/249 [==============================] - 0s 2ms/step - loss: 0.3891 - accuracy: 0.8203\n",
            "Epoch 29/120\n",
            "249/249 [==============================] - 0s 2ms/step - loss: 0.3881 - accuracy: 0.8219\n",
            "Epoch 30/120\n",
            "249/249 [==============================] - 0s 2ms/step - loss: 0.3870 - accuracy: 0.8236\n",
            "Epoch 31/120\n",
            "249/249 [==============================] - 0s 2ms/step - loss: 0.3857 - accuracy: 0.8266\n",
            "Epoch 32/120\n",
            "249/249 [==============================] - 0s 2ms/step - loss: 0.3848 - accuracy: 0.8266\n",
            "Epoch 33/120\n",
            "249/249 [==============================] - 0s 2ms/step - loss: 0.3835 - accuracy: 0.8295\n",
            "Epoch 34/120\n",
            "249/249 [==============================] - 0s 2ms/step - loss: 0.3826 - accuracy: 0.8330\n",
            "Epoch 35/120\n",
            "249/249 [==============================] - 0s 2ms/step - loss: 0.3819 - accuracy: 0.8335\n",
            "Epoch 36/120\n",
            "249/249 [==============================] - 0s 2ms/step - loss: 0.3809 - accuracy: 0.8330\n",
            "Epoch 37/120\n",
            "249/249 [==============================] - 0s 2ms/step - loss: 0.3801 - accuracy: 0.8336\n",
            "Epoch 38/120\n",
            "249/249 [==============================] - 0s 2ms/step - loss: 0.3795 - accuracy: 0.8350\n",
            "Epoch 39/120\n",
            "249/249 [==============================] - 0s 2ms/step - loss: 0.3789 - accuracy: 0.8345\n",
            "Epoch 40/120\n",
            "249/249 [==============================] - 0s 2ms/step - loss: 0.3782 - accuracy: 0.8348\n",
            "Epoch 41/120\n",
            "249/249 [==============================] - 1s 3ms/step - loss: 0.3772 - accuracy: 0.8362\n",
            "Epoch 42/120\n",
            "249/249 [==============================] - 1s 3ms/step - loss: 0.3770 - accuracy: 0.8359\n",
            "Epoch 43/120\n",
            "249/249 [==============================] - 1s 3ms/step - loss: 0.3763 - accuracy: 0.8368\n",
            "Epoch 44/120\n",
            "249/249 [==============================] - 1s 4ms/step - loss: 0.3751 - accuracy: 0.8368\n",
            "Epoch 45/120\n",
            "249/249 [==============================] - 1s 3ms/step - loss: 0.3750 - accuracy: 0.8379\n",
            "Epoch 46/120\n",
            "249/249 [==============================] - 1s 3ms/step - loss: 0.3737 - accuracy: 0.8368\n",
            "Epoch 47/120\n",
            "249/249 [==============================] - 0s 2ms/step - loss: 0.3733 - accuracy: 0.8382\n",
            "Epoch 48/120\n",
            "249/249 [==============================] - 0s 2ms/step - loss: 0.3729 - accuracy: 0.8386\n",
            "Epoch 49/120\n",
            "249/249 [==============================] - 1s 2ms/step - loss: 0.3720 - accuracy: 0.8394\n",
            "Epoch 50/120\n",
            "249/249 [==============================] - 0s 2ms/step - loss: 0.3715 - accuracy: 0.8402\n",
            "Epoch 51/120\n",
            "249/249 [==============================] - 0s 2ms/step - loss: 0.3710 - accuracy: 0.8412\n",
            "Epoch 52/120\n",
            "249/249 [==============================] - 0s 2ms/step - loss: 0.3700 - accuracy: 0.8416\n",
            "Epoch 53/120\n",
            "249/249 [==============================] - 0s 2ms/step - loss: 0.3697 - accuracy: 0.8420\n",
            "Epoch 54/120\n",
            "249/249 [==============================] - 0s 2ms/step - loss: 0.3694 - accuracy: 0.8444\n",
            "Epoch 55/120\n",
            "249/249 [==============================] - 0s 2ms/step - loss: 0.3681 - accuracy: 0.8440\n",
            "Epoch 56/120\n",
            "249/249 [==============================] - 1s 2ms/step - loss: 0.3681 - accuracy: 0.8452\n",
            "Epoch 57/120\n",
            "249/249 [==============================] - 0s 2ms/step - loss: 0.3674 - accuracy: 0.8444\n",
            "Epoch 58/120\n",
            "249/249 [==============================] - 0s 2ms/step - loss: 0.3672 - accuracy: 0.8464\n",
            "Epoch 59/120\n",
            "249/249 [==============================] - 1s 2ms/step - loss: 0.3662 - accuracy: 0.8459\n",
            "Epoch 60/120\n",
            "249/249 [==============================] - 1s 2ms/step - loss: 0.3658 - accuracy: 0.8460\n",
            "Epoch 61/120\n",
            "249/249 [==============================] - 0s 2ms/step - loss: 0.3651 - accuracy: 0.8456\n",
            "Epoch 62/120\n",
            "249/249 [==============================] - 1s 2ms/step - loss: 0.3649 - accuracy: 0.8475\n",
            "Epoch 63/120\n",
            "249/249 [==============================] - 0s 2ms/step - loss: 0.3648 - accuracy: 0.8460\n",
            "Epoch 64/120\n",
            "249/249 [==============================] - 1s 2ms/step - loss: 0.3646 - accuracy: 0.8476\n",
            "Epoch 65/120\n",
            "249/249 [==============================] - 0s 2ms/step - loss: 0.3636 - accuracy: 0.8472\n",
            "Epoch 66/120\n",
            "249/249 [==============================] - 1s 3ms/step - loss: 0.3634 - accuracy: 0.8474\n",
            "Epoch 67/120\n",
            "249/249 [==============================] - 1s 3ms/step - loss: 0.3632 - accuracy: 0.8486\n",
            "Epoch 68/120\n",
            "249/249 [==============================] - 1s 3ms/step - loss: 0.3631 - accuracy: 0.8481\n",
            "Epoch 69/120\n",
            "249/249 [==============================] - 1s 3ms/step - loss: 0.3623 - accuracy: 0.8499\n",
            "Epoch 70/120\n",
            "249/249 [==============================] - 1s 3ms/step - loss: 0.3622 - accuracy: 0.8489\n",
            "Epoch 71/120\n",
            "249/249 [==============================] - 0s 2ms/step - loss: 0.3620 - accuracy: 0.8494\n",
            "Epoch 72/120\n",
            "249/249 [==============================] - 0s 2ms/step - loss: 0.3613 - accuracy: 0.8496\n",
            "Epoch 73/120\n",
            "249/249 [==============================] - 1s 2ms/step - loss: 0.3607 - accuracy: 0.8500\n",
            "Epoch 74/120\n",
            "249/249 [==============================] - 0s 2ms/step - loss: 0.3608 - accuracy: 0.8513\n",
            "Epoch 75/120\n",
            "249/249 [==============================] - 0s 2ms/step - loss: 0.3609 - accuracy: 0.8504\n",
            "Epoch 76/120\n",
            "249/249 [==============================] - 0s 2ms/step - loss: 0.3607 - accuracy: 0.8496\n",
            "Epoch 77/120\n",
            "249/249 [==============================] - 1s 2ms/step - loss: 0.3598 - accuracy: 0.8500\n",
            "Epoch 78/120\n",
            "249/249 [==============================] - 0s 2ms/step - loss: 0.3599 - accuracy: 0.8523\n",
            "Epoch 79/120\n",
            "249/249 [==============================] - 0s 2ms/step - loss: 0.3598 - accuracy: 0.8514\n",
            "Epoch 80/120\n",
            "249/249 [==============================] - 0s 2ms/step - loss: 0.3594 - accuracy: 0.8509\n",
            "Epoch 81/120\n",
            "249/249 [==============================] - 0s 2ms/step - loss: 0.3584 - accuracy: 0.8513\n",
            "Epoch 82/120\n",
            "249/249 [==============================] - 0s 2ms/step - loss: 0.3593 - accuracy: 0.8522\n",
            "Epoch 83/120\n",
            "249/249 [==============================] - 0s 2ms/step - loss: 0.3590 - accuracy: 0.8505\n",
            "Epoch 84/120\n",
            "249/249 [==============================] - 0s 2ms/step - loss: 0.3589 - accuracy: 0.8512\n",
            "Epoch 85/120\n",
            "249/249 [==============================] - 0s 2ms/step - loss: 0.3585 - accuracy: 0.8525\n",
            "Epoch 86/120\n",
            "249/249 [==============================] - 1s 2ms/step - loss: 0.3585 - accuracy: 0.8513\n",
            "Epoch 87/120\n",
            "249/249 [==============================] - 1s 2ms/step - loss: 0.3584 - accuracy: 0.8515\n",
            "Epoch 88/120\n",
            "249/249 [==============================] - 1s 2ms/step - loss: 0.3581 - accuracy: 0.8517\n",
            "Epoch 89/120\n",
            "249/249 [==============================] - 1s 2ms/step - loss: 0.3580 - accuracy: 0.8505\n",
            "Epoch 90/120\n",
            "249/249 [==============================] - 1s 2ms/step - loss: 0.3580 - accuracy: 0.8529\n",
            "Epoch 91/120\n",
            "249/249 [==============================] - 1s 3ms/step - loss: 0.3576 - accuracy: 0.8530\n",
            "Epoch 92/120\n",
            "249/249 [==============================] - 1s 3ms/step - loss: 0.3579 - accuracy: 0.8523\n",
            "Epoch 93/120\n",
            "249/249 [==============================] - 1s 3ms/step - loss: 0.3575 - accuracy: 0.8522\n",
            "Epoch 94/120\n",
            "249/249 [==============================] - 1s 3ms/step - loss: 0.3578 - accuracy: 0.8512\n",
            "Epoch 95/120\n",
            "249/249 [==============================] - 1s 3ms/step - loss: 0.3577 - accuracy: 0.8519\n",
            "Epoch 96/120\n",
            "249/249 [==============================] - 1s 2ms/step - loss: 0.3574 - accuracy: 0.8520\n",
            "Epoch 97/120\n",
            "249/249 [==============================] - 1s 2ms/step - loss: 0.3572 - accuracy: 0.8535\n",
            "Epoch 98/120\n",
            "249/249 [==============================] - 0s 2ms/step - loss: 0.3571 - accuracy: 0.8514\n",
            "Epoch 99/120\n",
            "249/249 [==============================] - 0s 2ms/step - loss: 0.3571 - accuracy: 0.8517\n",
            "Epoch 100/120\n",
            "249/249 [==============================] - 1s 2ms/step - loss: 0.3574 - accuracy: 0.8523\n",
            "Epoch 101/120\n",
            "249/249 [==============================] - 0s 2ms/step - loss: 0.3570 - accuracy: 0.8527\n",
            "Epoch 102/120\n",
            "249/249 [==============================] - 1s 2ms/step - loss: 0.3568 - accuracy: 0.8520\n",
            "Epoch 103/120\n",
            "249/249 [==============================] - 1s 2ms/step - loss: 0.3566 - accuracy: 0.8532\n",
            "Epoch 104/120\n",
            "249/249 [==============================] - 1s 2ms/step - loss: 0.3562 - accuracy: 0.8512\n",
            "Epoch 105/120\n",
            "249/249 [==============================] - 0s 2ms/step - loss: 0.3566 - accuracy: 0.8520\n",
            "Epoch 106/120\n",
            "249/249 [==============================] - 1s 2ms/step - loss: 0.3564 - accuracy: 0.8510\n",
            "Epoch 107/120\n",
            "249/249 [==============================] - 1s 2ms/step - loss: 0.3568 - accuracy: 0.8517\n",
            "Epoch 108/120\n",
            "249/249 [==============================] - 1s 2ms/step - loss: 0.3568 - accuracy: 0.8515\n",
            "Epoch 109/120\n",
            "249/249 [==============================] - 0s 2ms/step - loss: 0.3564 - accuracy: 0.8518\n",
            "Epoch 110/120\n",
            "249/249 [==============================] - 1s 2ms/step - loss: 0.3561 - accuracy: 0.8533\n",
            "Epoch 111/120\n",
            "249/249 [==============================] - 1s 2ms/step - loss: 0.3563 - accuracy: 0.8514\n",
            "Epoch 112/120\n",
            "249/249 [==============================] - 1s 2ms/step - loss: 0.3558 - accuracy: 0.8503\n",
            "Epoch 113/120\n",
            "249/249 [==============================] - 0s 2ms/step - loss: 0.3562 - accuracy: 0.8533\n",
            "Epoch 114/120\n",
            "249/249 [==============================] - 1s 2ms/step - loss: 0.3566 - accuracy: 0.8520\n",
            "Epoch 115/120\n",
            "249/249 [==============================] - 1s 2ms/step - loss: 0.3560 - accuracy: 0.8524\n",
            "Epoch 116/120\n",
            "249/249 [==============================] - 1s 3ms/step - loss: 0.3560 - accuracy: 0.8523\n",
            "Epoch 117/120\n",
            "249/249 [==============================] - 1s 3ms/step - loss: 0.3558 - accuracy: 0.8513\n",
            "Epoch 118/120\n",
            "249/249 [==============================] - 1s 3ms/step - loss: 0.3558 - accuracy: 0.8532\n",
            "Epoch 119/120\n",
            "249/249 [==============================] - 1s 3ms/step - loss: 0.3559 - accuracy: 0.8505\n",
            "Epoch 120/120\n",
            "249/249 [==============================] - 1s 3ms/step - loss: 0.3560 - accuracy: 0.8522\n"
          ]
        },
        {
          "output_type": "execute_result",
          "data": {
            "text/plain": [
              "<keras.src.callbacks.History at 0x7b7b51df9540>"
            ]
          },
          "metadata": {},
          "execution_count": 36
        }
      ],
      "source": [
        "# trainning\n",
        "\n",
        "ann.fit(X_train, y_train, batch_size = 32, epochs = 120)"
      ]
    },
    {
      "cell_type": "code",
      "execution_count": null,
      "metadata": {
        "id": "_cLlhjYguPz7",
        "colab": {
          "base_uri": "https://localhost:8080/"
        },
        "outputId": "ce886743-f418-4528-8235-b53a1f09921c"
      },
      "outputs": [
        {
          "output_type": "stream",
          "name": "stdout",
          "text": [
            "1/1 [==============================] - 0s 156ms/step\n",
            "[[False]]\n"
          ]
        }
      ],
      "source": [
        "#  Predicting for a single instance\n",
        "\n",
        "print (ann.predict(sc.transform([[1, 0, 600, 1, 40, 3, 60000, 2, 1, 1, 50000]])) > 0.5)"
      ]
    },
    {
      "cell_type": "code",
      "source": [
        "# Prediction on testset\n",
        "\n",
        "y_pred = ann.predict(X_test)\n",
        "y_pred = (y_pred > 0.5)\n",
        "\n",
        "'''This line converts the predicted probabilities into binary predictions.\n",
        "If the predicted probability is greater than 0.5, the prediction is True (or 1). Otherwise, it is False (or 0).'''\n",
        "\n",
        "print(np.concatenate((y_pred.reshape(len(y_pred),1), y_test.reshape(len(y_test),1)),1))\n",
        "\n",
        "'''This line concatenates the binary predictions (y_pred) with the actual test labels (y_test).\n",
        "Both y_pred and y_test are reshaped to ensure they are 2-dimensional arrays with one column each. Finally,\n",
        "the concatenated array is printed, showing the predicted and actual labels side by side for each test sample.'''"
      ],
      "metadata": {
        "colab": {
          "base_uri": "https://localhost:8080/"
        },
        "id": "jvEXBgK82V-W",
        "outputId": "0f25399a-9faf-470a-c427-23b0d2cb6cbd"
      },
      "execution_count": null,
      "outputs": [
        {
          "output_type": "stream",
          "name": "stdout",
          "text": [
            "63/63 [==============================] - 0s 1ms/step\n",
            "[[0. 1.]\n",
            " [0. 0.]\n",
            " [0. 0.]\n",
            " ...\n",
            " [0. 1.]\n",
            " [0. 0.]\n",
            " [1. 1.]]\n"
          ]
        }
      ]
    },
    {
      "cell_type": "code",
      "source": [
        "y_pred"
      ],
      "metadata": {
        "colab": {
          "base_uri": "https://localhost:8080/"
        },
        "id": "xo-PskAW53Re",
        "outputId": "6a90dd44-e021-4a04-a34d-52da47a0a1af"
      },
      "execution_count": null,
      "outputs": [
        {
          "output_type": "execute_result",
          "data": {
            "text/plain": [
              "array([[False],\n",
              "       [False],\n",
              "       [False],\n",
              "       ...,\n",
              "       [False],\n",
              "       [False],\n",
              "       [ True]])"
            ]
          },
          "metadata": {},
          "execution_count": 42
        }
      ]
    },
    {
      "cell_type": "code",
      "source": [
        "from sklearn.metrics import confusion_matrix, accuracy_score\n",
        "cm = confusion_matrix(y_test, y_pred)\n",
        "print(cm)\n",
        "accuracy_score(y_test, y_pred)"
      ],
      "metadata": {
        "colab": {
          "base_uri": "https://localhost:8080/"
        },
        "id": "5APqHYnu20iy",
        "outputId": "0b25d8b0-b8cf-4c95-c8d0-bf8453c9c5dd"
      },
      "execution_count": null,
      "outputs": [
        {
          "output_type": "stream",
          "name": "stdout",
          "text": [
            "[[1501   72]\n",
            " [ 218  195]]\n"
          ]
        },
        {
          "output_type": "execute_result",
          "data": {
            "text/plain": [
              "0.8539778449144008"
            ]
          },
          "metadata": {},
          "execution_count": 41
        }
      ]
    },
    {
      "cell_type": "code",
      "source": [],
      "metadata": {
        "id": "vlD1E4Nr3PDU"
      },
      "execution_count": null,
      "outputs": []
    }
  ],
  "metadata": {
    "colab": {
      "provenance": [],
      "authorship_tag": "ABX9TyPb1EHSfBuP3WhXQT7ghYzn",
      "include_colab_link": true
    },
    "kernelspec": {
      "display_name": "Python 3",
      "name": "python3"
    },
    "language_info": {
      "name": "python"
    }
  },
  "nbformat": 4,
  "nbformat_minor": 0
}